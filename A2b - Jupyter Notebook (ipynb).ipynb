{
 "cells": [
  {
   "cell_type": "markdown",
   "metadata": {
    "id": "2ztW0v3sZDzr"
   },
   "source": [
    "## Dependencies"
   ]
  },
  {
   "cell_type": "code",
   "execution_count": 1,
   "metadata": {
    "colab": {
     "base_uri": "https://localhost:8080/"
    },
    "id": "RnAg39PnZDzy",
    "outputId": "8dde2e1b-2727-455d-fc03-2590cbcb10ff"
   },
   "outputs": [],
   "source": [
    "#Import functions and libraries. Install if not prev. installed on kernel.\n",
    "j=0\n",
    "while j<=1:\n",
    "  try:\n",
    "    import pandas as pd\n",
    "    import numpy as np\n",
    "    from scipy.stats import ttest_ind\n",
    "    import matplotlib.pyplot as plt\n",
    "    import statsmodels.api as sm\n",
    "    from statsmodels.formula.api import ols\n",
    "    from stargazer.stargazer import Stargazer\n",
    "    from rdd import rdd\n",
    "    j=2\n",
    "  except Exception as e:\n",
    "    !pip install stargazer\n",
    "    !pip install rdd\n",
    "    !pip install statsmodels\n",
    "    j+=1"
   ]
  },
  {
   "cell_type": "code",
   "execution_count": 2,
   "metadata": {
    "id": "7R1Df8Ss1KBL"
   },
   "outputs": [],
   "source": [
    "## We do not care about setting values on slices of dataframe, so supress warning messages about this:\n",
    "pd.options.mode.chained_assignment = None"
   ]
  },
  {
   "cell_type": "markdown",
   "metadata": {
    "id": "m2UW9_62ZDzz"
   },
   "source": [
    "## Data import"
   ]
  },
  {
   "cell_type": "code",
   "execution_count": 3,
   "metadata": {
    "colab": {
     "base_uri": "https://localhost:8080/",
     "height": 438
    },
    "id": "v-R-vsIXZDzz",
    "outputId": "e7ebe6ac-bba7-4fcd-b3dc-0cf8ae0823a3"
   },
   "outputs": [
    {
     "name": "stderr",
     "output_type": "stream",
     "text": [
      "C:\\Users\\espen\\anaconda3\\lib\\site-packages\\IPython\\core\\interactiveshell.py:3146: DtypeWarning: Columns (26,52) have mixed types.Specify dtype option on import or set low_memory=False.\n",
      "  has_raised = await self.run_ast_nodes(code_ast.body, cell_name,\n"
     ]
    }
   ],
   "source": [
    "#Read data - two data sets are merged. The data sets are constructed 24 hours apart.\n",
    "#Read 28-03-2021 data\n",
    "df_t = pd.read_csv('data_elgiganten_28032021.csv')\n",
    "#Read 29-03-2021 data\n",
    "df_t_minus_1 = pd.read_csv('data_elgiganten_29032021.csv')\n",
    "#Merge data\n",
    "df = pd.merge(df_t, df_t_minus_1, left_on = 'sku',right_on = 'sku',suffixes = (\"_t\",\"_t-1\")) "
   ]
  },
  {
   "cell_type": "markdown",
   "metadata": {
    "id": "dyyKyz4YZDz0"
   },
   "source": [
    "## Data manipulation (not altering the data set in any comprimising way)"
   ]
  },
  {
   "cell_type": "markdown",
   "metadata": {
    "id": "dtthczmnZDz0"
   },
   "source": [
    "- $Y_i = $ dummy indicating wether a product has been purchased or not `['purchase_dummy']` in dataset. \n",
    "- $x_i = $ inventory distance to closest cutoff at beginning of 24 hour period. `['closest_cutoff_distance']` in dataset.   \n",
    "- $D(x_i) = $ Dummy. 1 if inventory greater than closest cutoff for product _i_ else 0.  It is the relevant treatment variable in our study. `['treatment_dummy_t-1']` in dataset."
   ]
  },
  {
   "cell_type": "markdown",
   "metadata": {
    "id": "lNoamglaZDz1"
   },
   "source": [
    "We have a big limitation - only measured clicks and purchases at one time. If a product is purchased then intuitively inventory is lowered by one. If the product crosses the cutoff from day to day then the product is discarded to avoid this problem. This might create a (huge) selection bias. The issue arises due to the nature of the (aggregated) data - we do not have data on each purchase or click but only how many units of a given products that have been sold (and clicked upon). "
   ]
  },
  {
   "cell_type": "markdown",
   "metadata": {
    "id": "sTtyf9cv3HYA"
   },
   "source": [
    "#### Outcome variable"
   ]
  },
  {
   "cell_type": "code",
   "execution_count": 4,
   "metadata": {
    "colab": {
     "base_uri": "https://localhost:8080/"
    },
    "id": "psymkxEh0Il1",
    "outputId": "fe40d480-6aa5-4c8b-8052-39ebb866a8da"
   },
   "outputs": [
    {
     "name": "stdout",
     "output_type": "stream",
     "text": [
      "Number of unique skus purchased: 1246.0, which corresponds to 8.8 pct. of total SKUs\n"
     ]
    }
   ],
   "source": [
    "##Outcome variable - has product been purchased during the last 24 hours.df['purchase_daily_t'] > 0:\n",
    "df.loc[df['purchase_daily_t'] > 0,'purchase_dummy_t'] = 1\n",
    "df.loc[df['purchase_daily_t'] == 0,'purchase_dummy_t'] = 0\n",
    "unique_purchase_count = sum(df['purchase_dummy_t'])\n",
    "unique_purchase_share = round(df['purchase_dummy_t'].mean()*100,1)\n",
    "print(f'Number of unique skus purchased: {unique_purchase_count}, which corresponds to {unique_purchase_share} pct. of total SKUs')\n"
   ]
  },
  {
   "cell_type": "markdown",
   "metadata": {
    "id": "hO_9_QlK3KLo"
   },
   "source": [
    "#### Running variable in a Regression Discontinuity Design"
   ]
  },
  {
   "cell_type": "code",
   "execution_count": 5,
   "metadata": {
    "id": "XDb7dkuS1EpK"
   },
   "outputs": [],
   "source": [
    "##Running variable\n",
    "\n",
    "#define function to find closest cutoff for a given inventory measure\n",
    "def assign_to_closest_cutoff(df,input_name,cutoff_min, cutoff_max, cutoff_values):\n",
    "    cutoff_criteria = [df[input_name].between(cutoff_min[i],cutoff_max[i]) for i in range(0,len(cutoff_min))] \n",
    "    return np.select(cutoff_criteria,cutoff_values,0)\n",
    "\n",
    "#Define closest cutoff intervals\n",
    "cutoff_min = [0,0,14.5,37.5,74.5]\n",
    "cutoff_max = [0,14.5,37.5,74.5,max(df['inventory_t-1'])]\n",
    "cutoff_value = [0,4.5,24.5,49.5,99.5]\n",
    "\n",
    "#Store closest cutoff in df\n",
    "df['closest_cutoff_t-1'] = assign_to_closest_cutoff(df, 'inventory_t-1', cutoff_min, cutoff_max, cutoff_value)\n",
    "\n",
    "#Distance to closest cutoff is running variable.\n",
    "df['closest_cutoff_distance_t-1'] = df['inventory_t-1'] - df['closest_cutoff_t-1'] "
   ]
  },
  {
   "cell_type": "markdown",
   "metadata": {
    "id": "FjxZUrNl3SPm"
   },
   "source": [
    "#### Treatment variable (greater than zero running variable)"
   ]
  },
  {
   "cell_type": "code",
   "execution_count": 6,
   "metadata": {
    "id": "VaAr2wsR2AEi"
   },
   "outputs": [],
   "source": [
    "##Treatment variable\n",
    "\n",
    "df.rename({'stock_lvl_ecom_format_t':'treatment_string_t'},axis=1,inplace=True)\n",
    "df.rename({'stock_lvl_ecom_format_t-1':'treatment_string_t-1'},axis=1,inplace=True)\n",
    "#Create indicator variable of above, equal or below cutoff. \n",
    "#By definition of the cutoffs \"equal to cutoff\" will contain zero true elements but those with zero inventory\n",
    "df.loc[df['closest_cutoff_distance_t-1'] < 0,'cutoff_prefix'] = 'below_cutoff_t-1'\n",
    "df.loc[df['closest_cutoff_distance_t-1'] > 0,'cutoff_prefix'] = 'above_cutoff_t-1'\n",
    "df.loc[df['closest_cutoff_distance_t-1'] == 0,'cutoff_prefix'] = 'zero_inventory_t-1'\n",
    "df=pd.concat([df,pd.get_dummies(df.loc[:,'cutoff_prefix'])],1) \n",
    "\n",
    "#copy \"above cutoff\" to construct treatment dummy.\n",
    "df.loc[:,'treatment_dummy_t-1'] = df.loc[:,'above_cutoff_t-1']"
   ]
  },
  {
   "cell_type": "markdown",
   "metadata": {
    "id": "xgGF3qxj3Yl-"
   },
   "source": [
    "#### Predetermined variables"
   ]
  },
  {
   "cell_type": "code",
   "execution_count": 7,
   "metadata": {
    "id": "itNzblIFZDz1"
   },
   "outputs": [],
   "source": [
    "## Rename and manipulate some predetermined covariates\n",
    "#rating, set average rating of products with no rating to be not avalaible.\n",
    "df.rename({'bazaarvoice_average_rating_percent_t-1':'average_rating_pct_t-1'},axis=1,inplace=True)\n",
    "df.loc[df['total_rating_count_t-1']==0,['average_rating_pct_t-1']] = np.NaN\n",
    "#campaign to integer dummy from boolean True/False formating\n",
    "df['IsOnCampaign_t-1'] = df['IsOnCampaign_t-1'].astype(int)"
   ]
  },
  {
   "cell_type": "markdown",
   "metadata": {
    "id": "hvaB8r0yZDz2"
   },
   "source": [
    "## Data analysis"
   ]
  },
  {
   "cell_type": "markdown",
   "metadata": {
    "id": "4mjUjjouxvln"
   },
   "source": [
    "#### Removing observations"
   ]
  },
  {
   "cell_type": "code",
   "execution_count": 8,
   "metadata": {
    "colab": {
     "base_uri": "https://localhost:8080/"
    },
    "id": "c9jTbnhQZDz2",
    "outputId": "841052ee-669e-43e1-d2b7-616bc00bc3fa"
   },
   "outputs": [
    {
     "name": "stdout",
     "output_type": "stream",
     "text": [
      "observation count in original dataset: 14130\n",
      "observations removed due to inventory data being N/A: 3476\n"
     ]
    }
   ],
   "source": [
    "print(f'observation count in original dataset: {len(df)}')\n",
    "\n",
    "#Only look at products that have been clicked at and where inventory is available\n",
    "df_cleaned = df.loc[df['inventory_t-1'].notna(),:]\n",
    "count_wo_invNA=len(df_cleaned)\n",
    "print(f'observations removed due to inventory data being N/A: {len(df)-count_wo_invNA}')"
   ]
  },
  {
   "cell_type": "markdown",
   "metadata": {
    "id": "_prvC8n-ZDz8"
   },
   "source": [
    "#### Removing products with zero inventory "
   ]
  },
  {
   "cell_type": "code",
   "execution_count": 9,
   "metadata": {
    "id": "6dPTBRvoZDz8"
   },
   "outputs": [],
   "source": [
    "df_cleaned_no_zero_inventory = df_cleaned.loc[df_cleaned['zero_inventory_t-1']!=1,:]"
   ]
  },
  {
   "cell_type": "markdown",
   "metadata": {
    "id": "Ua7DFrL-yAx0"
   },
   "source": [
    "#### Describe remaining data (table)"
   ]
  },
  {
   "cell_type": "code",
   "execution_count": 10,
   "metadata": {
    "id": "CZcjgGwyZDz3"
   },
   "outputs": [],
   "source": [
    "# df_cleaned_no_zero_inventory[:,['closest_cutoff_distance_t-1',\n",
    "#                     'purchase_dummy_t',\n",
    "#                     'price_t-1',\n",
    "#                     'view_daily_t-1',\n",
    "#                     'purchase_daily_t-1',\n",
    "#                     'total_rating_count_t-1',\n",
    "#                     'average_rating_pct_t-1',\n",
    "#                     'IsOnCampaign_t-1']].describe()"
   ]
  },
  {
   "cell_type": "markdown",
   "metadata": {
    "id": "IgeeMA5hZDz5"
   },
   "source": [
    "#### Comparison of means across cutoffs"
   ]
  },
  {
   "cell_type": "markdown",
   "metadata": {
    "id": "5SQDesWWiVZ2"
   },
   "source": [
    "##### Table"
   ]
  },
  {
   "cell_type": "code",
   "execution_count": 11,
   "metadata": {
    "id": "gqOhBA6cZDz6"
   },
   "outputs": [],
   "source": [
    "df_mean_not_pooled = df_cleaned.groupby(['closest_cutoff_t-1','cutoff_prefix']) \\\n",
    "        .agg({'sku':'size',\n",
    "              'inventory_t-1':['mean',np.std],\n",
    "              'price_t-1':['mean',np.std,],\n",
    "              'view_daily_t':['mean',np.std],\n",
    "              'purchase_dummy_t':['mean',np.std],\n",
    "              'total_rating_count_t-1':['mean',np.std],\n",
    "              'average_rating_pct_t-1':['mean',np.std],\n",
    "              'IsOnCampaign_t-1':['mean',np.std]\n",
    "             }) \\\n",
    "        .sort_values(['closest_cutoff_t-1','cutoff_prefix'],ascending=[True,False])\n",
    "\n",
    "df_mean_pooled = df_cleaned.groupby('cutoff_prefix') \\\n",
    "        .agg({'sku':'size',\n",
    "              'inventory_t-1':['mean',np.std],\n",
    "              'price_t-1':['mean',np.std,],\n",
    "              'view_daily_t':['mean',np.std],\n",
    "              'purchase_dummy_t':['mean',np.std],\n",
    "              'total_rating_count_t-1':['mean',np.std],\n",
    "              'average_rating_pct_t-1':['mean',np.std],\n",
    "              'IsOnCampaign_t-1':['mean',np.std]\n",
    "             }) \\\n",
    "        .sort_values(['cutoff_prefix'],ascending=[False])\n",
    "\n",
    "tuples = [('pooled','zero inventory'),('pooled','below cutoff'),('pooled','above cutoff')]\n",
    "index = pd.MultiIndex.from_tuples(tuples, names=['closest_cutoff_t-1','cutoff_prefix'])\n",
    "df_mean_pooled.index = index"
   ]
  },
  {
   "cell_type": "code",
   "execution_count": 12,
   "metadata": {
    "id": "5aVItziAZDz7"
   },
   "outputs": [],
   "source": [
    "df_mean = df_mean_not_pooled\n",
    "df_mean = df_mean.append(df_mean_pooled)"
   ]
  },
  {
   "cell_type": "code",
   "execution_count": 13,
   "metadata": {
    "id": "zkqU7a-3ZDz7"
   },
   "outputs": [],
   "source": [
    "variables_of_interest = ['inventory_t-1', \n",
    "                         'view_daily_t',\n",
    "                         'purchase_dummy_t',\n",
    "                         'price_t-1',\n",
    "                         'total_rating_count_t-1',\n",
    "                         'average_rating_pct_t-1',\n",
    "                         'IsOnCampaign_t-1']\n",
    "\n",
    "cutoff_values = cutoff_value.copy()\n",
    "cutoff_values.append('pooled')\n",
    "cutoff_values.pop(0)\n",
    "\n",
    "for variable in variables_of_interest:\n",
    "    for cutoff in cutoff_values:\n",
    "        if not isinstance(cutoff, str):\n",
    "            series_above = df_cleaned.loc[(df_cleaned['closest_cutoff_t-1']==cutoff) & (df_cleaned['cutoff_prefix']=='above_cutoff_t-1'),variable] \n",
    "            series_below = df_cleaned.loc[(df_cleaned['closest_cutoff_t-1']==cutoff) & (df_cleaned['cutoff_prefix']=='below_cutoff_t-1'),variable] \n",
    "        else:\n",
    "            series_above = df_cleaned.loc[(df_cleaned['cutoff_prefix']=='above_cutoff_t-1'),variable] \n",
    "            series_below = df_cleaned.loc[(df_cleaned['cutoff_prefix']=='below_cutoff_t-1'),variable] \n",
    "        ttest = ttest_ind(series_above,series_below,nan_policy ='omit',equal_var=False)\n",
    "        df_mean.loc[(cutoff,'diff'),(variable,'mean')] = np.mean(series_above) -np.mean(series_below)\n",
    "        df_mean.loc[(cutoff,'diff'),(variable,'std')] = ttest[1]\n",
    "\n",
    "comparison_of_means_table = df_mean.sort_index().transpose()"
   ]
  },
  {
   "cell_type": "code",
   "execution_count": 14,
   "metadata": {
    "colab": {
     "base_uri": "https://localhost:8080/",
     "height": 591
    },
    "id": "gj7rdjDvhziH",
    "outputId": "b032e6ee-cc7f-4919-c558-f9a11a5c9327"
   },
   "outputs": [
    {
     "data": {
      "text/html": [
       "<div>\n",
       "<style scoped>\n",
       "    .dataframe tbody tr th:only-of-type {\n",
       "        vertical-align: middle;\n",
       "    }\n",
       "\n",
       "    .dataframe tbody tr th {\n",
       "        vertical-align: top;\n",
       "    }\n",
       "\n",
       "    .dataframe thead tr th {\n",
       "        text-align: left;\n",
       "    }\n",
       "</style>\n",
       "<table border=\"1\" class=\"dataframe\">\n",
       "  <thead>\n",
       "    <tr>\n",
       "      <th></th>\n",
       "      <th>closest_cutoff_t-1</th>\n",
       "      <th>0.0</th>\n",
       "      <th colspan=\"3\" halign=\"left\">4.5</th>\n",
       "      <th colspan=\"3\" halign=\"left\">24.5</th>\n",
       "      <th colspan=\"3\" halign=\"left\">49.5</th>\n",
       "      <th colspan=\"3\" halign=\"left\">99.5</th>\n",
       "      <th colspan=\"4\" halign=\"left\">pooled</th>\n",
       "    </tr>\n",
       "    <tr>\n",
       "      <th></th>\n",
       "      <th>cutoff_prefix</th>\n",
       "      <th>zero_inventory_t-1</th>\n",
       "      <th>above_cutoff_t-1</th>\n",
       "      <th>below_cutoff_t-1</th>\n",
       "      <th>diff</th>\n",
       "      <th>above_cutoff_t-1</th>\n",
       "      <th>below_cutoff_t-1</th>\n",
       "      <th>diff</th>\n",
       "      <th>above_cutoff_t-1</th>\n",
       "      <th>below_cutoff_t-1</th>\n",
       "      <th>diff</th>\n",
       "      <th>above_cutoff_t-1</th>\n",
       "      <th>below_cutoff_t-1</th>\n",
       "      <th>diff</th>\n",
       "      <th>above cutoff</th>\n",
       "      <th>below cutoff</th>\n",
       "      <th>diff</th>\n",
       "      <th>zero inventory</th>\n",
       "    </tr>\n",
       "  </thead>\n",
       "  <tbody>\n",
       "    <tr>\n",
       "      <th>sku</th>\n",
       "      <th>size</th>\n",
       "      <td>4034.000000</td>\n",
       "      <td>913.000000</td>\n",
       "      <td>687.000000</td>\n",
       "      <td>NaN</td>\n",
       "      <td>483.000000</td>\n",
       "      <td>563.000000</td>\n",
       "      <td>NaN</td>\n",
       "      <td>478.000000</td>\n",
       "      <td>370.000000</td>\n",
       "      <td>NaN</td>\n",
       "      <td>2769.000000</td>\n",
       "      <td>357.000000</td>\n",
       "      <td>NaN</td>\n",
       "      <td>4643.000000</td>\n",
       "      <td>1977.000000</td>\n",
       "      <td>NaN</td>\n",
       "      <td>4034.000000</td>\n",
       "    </tr>\n",
       "    <tr>\n",
       "      <th rowspan=\"2\" valign=\"top\">inventory_t-1</th>\n",
       "      <th>mean</th>\n",
       "      <td>0.000000</td>\n",
       "      <td>8.529025</td>\n",
       "      <td>2.407569</td>\n",
       "      <td>6.121456</td>\n",
       "      <td>30.051760</td>\n",
       "      <td>19.060391</td>\n",
       "      <td>1.099137e+01</td>\n",
       "      <td>61.092050</td>\n",
       "      <td>43.672973</td>\n",
       "      <td>1.741908e+01</td>\n",
       "      <td>2124.899964</td>\n",
       "      <td>87.072829</td>\n",
       "      <td>2.037827e+03</td>\n",
       "      <td>1278.344174</td>\n",
       "      <td>30.161356</td>\n",
       "      <td>1.248183e+03</td>\n",
       "      <td>0.000000</td>\n",
       "    </tr>\n",
       "    <tr>\n",
       "      <th>std</th>\n",
       "      <td>0.000000</td>\n",
       "      <td>2.801449</td>\n",
       "      <td>1.116978</td>\n",
       "      <td>0.000000</td>\n",
       "      <td>3.699194</td>\n",
       "      <td>2.573457</td>\n",
       "      <td>3.067810e-280</td>\n",
       "      <td>6.973137</td>\n",
       "      <td>3.834457</td>\n",
       "      <td>7.626957e-225</td>\n",
       "      <td>8493.629097</td>\n",
       "      <td>7.447967</td>\n",
       "      <td>1.439818e-35</td>\n",
       "      <td>6639.057277</td>\n",
       "      <td>30.615725</td>\n",
       "      <td>6.022950e-37</td>\n",
       "      <td>0.000000</td>\n",
       "    </tr>\n",
       "    <tr>\n",
       "      <th rowspan=\"2\" valign=\"top\">price_t-1</th>\n",
       "      <th>mean</th>\n",
       "      <td>4665.424874</td>\n",
       "      <td>2747.867196</td>\n",
       "      <td>4002.106477</td>\n",
       "      <td>-1254.239281</td>\n",
       "      <td>2500.401553</td>\n",
       "      <td>2417.491385</td>\n",
       "      <td>8.291017e+01</td>\n",
       "      <td>2317.959833</td>\n",
       "      <td>2108.927297</td>\n",
       "      <td>2.090325e+02</td>\n",
       "      <td>1681.139437</td>\n",
       "      <td>2064.247619</td>\n",
       "      <td>-3.831082e+02</td>\n",
       "      <td>2041.687831</td>\n",
       "      <td>2846.603085</td>\n",
       "      <td>-8.049153e+02</td>\n",
       "      <td>4665.424874</td>\n",
       "    </tr>\n",
       "    <tr>\n",
       "      <th>std</th>\n",
       "      <td>5789.272702</td>\n",
       "      <td>4598.926600</td>\n",
       "      <td>6748.177888</td>\n",
       "      <td>0.000030</td>\n",
       "      <td>4216.024771</td>\n",
       "      <td>4084.736435</td>\n",
       "      <td>7.477736e-01</td>\n",
       "      <td>3662.198438</td>\n",
       "      <td>3192.601648</td>\n",
       "      <td>3.756310e-01</td>\n",
       "      <td>2767.641272</td>\n",
       "      <td>3271.279598</td>\n",
       "      <td>3.482083e-02</td>\n",
       "      <td>3485.971990</td>\n",
       "      <td>5011.503497</td>\n",
       "      <td>9.283926e-11</td>\n",
       "      <td>5789.272702</td>\n",
       "    </tr>\n",
       "    <tr>\n",
       "      <th rowspan=\"2\" valign=\"top\">view_daily_t</th>\n",
       "      <th>mean</th>\n",
       "      <td>13.131879</td>\n",
       "      <td>5.032859</td>\n",
       "      <td>4.655022</td>\n",
       "      <td>0.377837</td>\n",
       "      <td>9.925466</td>\n",
       "      <td>7.925400</td>\n",
       "      <td>2.000066e+00</td>\n",
       "      <td>18.742678</td>\n",
       "      <td>11.978378</td>\n",
       "      <td>6.764299e+00</td>\n",
       "      <td>24.589021</td>\n",
       "      <td>13.487395</td>\n",
       "      <td>1.110163e+01</td>\n",
       "      <td>18.616196</td>\n",
       "      <td>8.551846</td>\n",
       "      <td>1.006435e+01</td>\n",
       "      <td>13.131879</td>\n",
       "    </tr>\n",
       "    <tr>\n",
       "      <th>std</th>\n",
       "      <td>49.507547</td>\n",
       "      <td>15.883865</td>\n",
       "      <td>16.240864</td>\n",
       "      <td>0.642010</td>\n",
       "      <td>25.962921</td>\n",
       "      <td>21.908288</td>\n",
       "      <td>1.825462e-01</td>\n",
       "      <td>79.275326</td>\n",
       "      <td>30.363463</td>\n",
       "      <td>8.766163e-02</td>\n",
       "      <td>54.740825</td>\n",
       "      <td>25.792669</td>\n",
       "      <td>1.667623e-10</td>\n",
       "      <td>51.162572</td>\n",
       "      <td>23.067088</td>\n",
       "      <td>4.931002e-28</td>\n",
       "      <td>49.507547</td>\n",
       "    </tr>\n",
       "    <tr>\n",
       "      <th rowspan=\"2\" valign=\"top\">purchase_dummy_t</th>\n",
       "      <th>mean</th>\n",
       "      <td>0.076599</td>\n",
       "      <td>0.042716</td>\n",
       "      <td>0.029112</td>\n",
       "      <td>0.013604</td>\n",
       "      <td>0.080745</td>\n",
       "      <td>0.069272</td>\n",
       "      <td>1.147358e-02</td>\n",
       "      <td>0.140167</td>\n",
       "      <td>0.113514</td>\n",
       "      <td>2.665385e-02</td>\n",
       "      <td>0.217768</td>\n",
       "      <td>0.126050</td>\n",
       "      <td>9.171773e-02</td>\n",
       "      <td>0.161103</td>\n",
       "      <td>0.073849</td>\n",
       "      <td>8.725347e-02</td>\n",
       "      <td>0.076599</td>\n",
       "    </tr>\n",
       "    <tr>\n",
       "      <th>std</th>\n",
       "      <td>0.265987</td>\n",
       "      <td>0.202328</td>\n",
       "      <td>0.168243</td>\n",
       "      <td>0.142671</td>\n",
       "      <td>0.272726</td>\n",
       "      <td>0.254142</td>\n",
       "      <td>4.841369e-01</td>\n",
       "      <td>0.347524</td>\n",
       "      <td>0.317649</td>\n",
       "      <td>2.452229e-01</td>\n",
       "      <td>0.412803</td>\n",
       "      <td>0.332372</td>\n",
       "      <td>2.504480e-06</td>\n",
       "      <td>0.367665</td>\n",
       "      <td>0.261592</td>\n",
       "      <td>1.658685e-27</td>\n",
       "      <td>0.265987</td>\n",
       "    </tr>\n",
       "    <tr>\n",
       "      <th rowspan=\"2\" valign=\"top\">total_rating_count_t-1</th>\n",
       "      <th>mean</th>\n",
       "      <td>13.704268</td>\n",
       "      <td>5.098343</td>\n",
       "      <td>3.124269</td>\n",
       "      <td>1.974074</td>\n",
       "      <td>8.533333</td>\n",
       "      <td>7.026690</td>\n",
       "      <td>1.506643e+00</td>\n",
       "      <td>10.964361</td>\n",
       "      <td>10.268293</td>\n",
       "      <td>6.960679e-01</td>\n",
       "      <td>15.488347</td>\n",
       "      <td>13.328652</td>\n",
       "      <td>2.159695e+00</td>\n",
       "      <td>12.254991</td>\n",
       "      <td>7.417555</td>\n",
       "      <td>4.837437e+00</td>\n",
       "      <td>13.704268</td>\n",
       "    </tr>\n",
       "    <tr>\n",
       "      <th>std</th>\n",
       "      <td>66.766500</td>\n",
       "      <td>28.732522</td>\n",
       "      <td>19.569916</td>\n",
       "      <td>0.103936</td>\n",
       "      <td>33.776605</td>\n",
       "      <td>57.093172</td>\n",
       "      <td>5.983975e-01</td>\n",
       "      <td>48.504405</td>\n",
       "      <td>52.208051</td>\n",
       "      <td>8.428480e-01</td>\n",
       "      <td>53.738957</td>\n",
       "      <td>56.113229</td>\n",
       "      <td>4.927414e-01</td>\n",
       "      <td>47.563540</td>\n",
       "      <td>46.388326</td>\n",
       "      <td>1.224448e-04</td>\n",
       "      <td>66.766500</td>\n",
       "    </tr>\n",
       "    <tr>\n",
       "      <th rowspan=\"2\" valign=\"top\">average_rating_pct_t-1</th>\n",
       "      <th>mean</th>\n",
       "      <td>82.737200</td>\n",
       "      <td>81.726891</td>\n",
       "      <td>82.159420</td>\n",
       "      <td>-0.432530</td>\n",
       "      <td>83.891304</td>\n",
       "      <td>79.094737</td>\n",
       "      <td>4.796568e+00</td>\n",
       "      <td>84.913242</td>\n",
       "      <td>83.924528</td>\n",
       "      <td>9.887137e-01</td>\n",
       "      <td>81.206919</td>\n",
       "      <td>83.506173</td>\n",
       "      <td>-2.299254e+00</td>\n",
       "      <td>81.856040</td>\n",
       "      <td>82.030817</td>\n",
       "      <td>-1.747767e-01</td>\n",
       "      <td>82.737200</td>\n",
       "    </tr>\n",
       "    <tr>\n",
       "      <th>std</th>\n",
       "      <td>17.944545</td>\n",
       "      <td>21.405395</td>\n",
       "      <td>20.280963</td>\n",
       "      <td>0.845304</td>\n",
       "      <td>17.531210</td>\n",
       "      <td>22.355745</td>\n",
       "      <td>2.129625e-02</td>\n",
       "      <td>16.075417</td>\n",
       "      <td>15.826411</td>\n",
       "      <td>5.518066e-01</td>\n",
       "      <td>18.752233</td>\n",
       "      <td>15.047439</td>\n",
       "      <td>7.249269e-02</td>\n",
       "      <td>18.742975</td>\n",
       "      <td>18.815273</td>\n",
       "      <td>8.351488e-01</td>\n",
       "      <td>17.944545</td>\n",
       "    </tr>\n",
       "    <tr>\n",
       "      <th rowspan=\"2\" valign=\"top\">IsOnCampaign_t-1</th>\n",
       "      <th>mean</th>\n",
       "      <td>0.267724</td>\n",
       "      <td>0.083242</td>\n",
       "      <td>0.101892</td>\n",
       "      <td>-0.018650</td>\n",
       "      <td>0.142857</td>\n",
       "      <td>0.095915</td>\n",
       "      <td>4.694240e-02</td>\n",
       "      <td>0.156904</td>\n",
       "      <td>0.137838</td>\n",
       "      <td>1.906593e-02</td>\n",
       "      <td>0.190321</td>\n",
       "      <td>0.156863</td>\n",
       "      <td>3.345867e-02</td>\n",
       "      <td>0.160887</td>\n",
       "      <td>0.116844</td>\n",
       "      <td>4.404365e-02</td>\n",
       "      <td>0.267724</td>\n",
       "    </tr>\n",
       "    <tr>\n",
       "      <th>std</th>\n",
       "      <td>0.442828</td>\n",
       "      <td>0.276399</td>\n",
       "      <td>0.302727</td>\n",
       "      <td>0.205778</td>\n",
       "      <td>0.350290</td>\n",
       "      <td>0.294736</td>\n",
       "      <td>2.038910e-02</td>\n",
       "      <td>0.364091</td>\n",
       "      <td>0.345197</td>\n",
       "      <td>4.363456e-01</td>\n",
       "      <td>0.392626</td>\n",
       "      <td>0.364182</td>\n",
       "      <td>1.061539e-01</td>\n",
       "      <td>0.367467</td>\n",
       "      <td>0.321315</td>\n",
       "      <td>1.074964e-06</td>\n",
       "      <td>0.442828</td>\n",
       "    </tr>\n",
       "  </tbody>\n",
       "</table>\n",
       "</div>"
      ],
      "text/plain": [
       "closest_cutoff_t-1                         0.0              4.5  \\\n",
       "cutoff_prefix               zero_inventory_t-1 above_cutoff_t-1   \n",
       "sku                    size        4034.000000       913.000000   \n",
       "inventory_t-1          mean           0.000000         8.529025   \n",
       "                       std            0.000000         2.801449   \n",
       "price_t-1              mean        4665.424874      2747.867196   \n",
       "                       std         5789.272702      4598.926600   \n",
       "view_daily_t           mean          13.131879         5.032859   \n",
       "                       std           49.507547        15.883865   \n",
       "purchase_dummy_t       mean           0.076599         0.042716   \n",
       "                       std            0.265987         0.202328   \n",
       "total_rating_count_t-1 mean          13.704268         5.098343   \n",
       "                       std           66.766500        28.732522   \n",
       "average_rating_pct_t-1 mean          82.737200        81.726891   \n",
       "                       std           17.944545        21.405395   \n",
       "IsOnCampaign_t-1       mean           0.267724         0.083242   \n",
       "                       std            0.442828         0.276399   \n",
       "\n",
       "closest_cutoff_t-1                                                    24.5  \\\n",
       "cutoff_prefix               below_cutoff_t-1         diff above_cutoff_t-1   \n",
       "sku                    size       687.000000          NaN       483.000000   \n",
       "inventory_t-1          mean         2.407569     6.121456        30.051760   \n",
       "                       std          1.116978     0.000000         3.699194   \n",
       "price_t-1              mean      4002.106477 -1254.239281      2500.401553   \n",
       "                       std       6748.177888     0.000030      4216.024771   \n",
       "view_daily_t           mean         4.655022     0.377837         9.925466   \n",
       "                       std         16.240864     0.642010        25.962921   \n",
       "purchase_dummy_t       mean         0.029112     0.013604         0.080745   \n",
       "                       std          0.168243     0.142671         0.272726   \n",
       "total_rating_count_t-1 mean         3.124269     1.974074         8.533333   \n",
       "                       std         19.569916     0.103936        33.776605   \n",
       "average_rating_pct_t-1 mean        82.159420    -0.432530        83.891304   \n",
       "                       std         20.280963     0.845304        17.531210   \n",
       "IsOnCampaign_t-1       mean         0.101892    -0.018650         0.142857   \n",
       "                       std          0.302727     0.205778         0.350290   \n",
       "\n",
       "closest_cutoff_t-1                                                      49.5  \\\n",
       "cutoff_prefix               below_cutoff_t-1           diff above_cutoff_t-1   \n",
       "sku                    size       563.000000            NaN       478.000000   \n",
       "inventory_t-1          mean        19.060391   1.099137e+01        61.092050   \n",
       "                       std          2.573457  3.067810e-280         6.973137   \n",
       "price_t-1              mean      2417.491385   8.291017e+01      2317.959833   \n",
       "                       std       4084.736435   7.477736e-01      3662.198438   \n",
       "view_daily_t           mean         7.925400   2.000066e+00        18.742678   \n",
       "                       std         21.908288   1.825462e-01        79.275326   \n",
       "purchase_dummy_t       mean         0.069272   1.147358e-02         0.140167   \n",
       "                       std          0.254142   4.841369e-01         0.347524   \n",
       "total_rating_count_t-1 mean         7.026690   1.506643e+00        10.964361   \n",
       "                       std         57.093172   5.983975e-01        48.504405   \n",
       "average_rating_pct_t-1 mean        79.094737   4.796568e+00        84.913242   \n",
       "                       std         22.355745   2.129625e-02        16.075417   \n",
       "IsOnCampaign_t-1       mean         0.095915   4.694240e-02         0.156904   \n",
       "                       std          0.294736   2.038910e-02         0.364091   \n",
       "\n",
       "closest_cutoff_t-1                                                      99.5  \\\n",
       "cutoff_prefix               below_cutoff_t-1           diff above_cutoff_t-1   \n",
       "sku                    size       370.000000            NaN      2769.000000   \n",
       "inventory_t-1          mean        43.672973   1.741908e+01      2124.899964   \n",
       "                       std          3.834457  7.626957e-225      8493.629097   \n",
       "price_t-1              mean      2108.927297   2.090325e+02      1681.139437   \n",
       "                       std       3192.601648   3.756310e-01      2767.641272   \n",
       "view_daily_t           mean        11.978378   6.764299e+00        24.589021   \n",
       "                       std         30.363463   8.766163e-02        54.740825   \n",
       "purchase_dummy_t       mean         0.113514   2.665385e-02         0.217768   \n",
       "                       std          0.317649   2.452229e-01         0.412803   \n",
       "total_rating_count_t-1 mean        10.268293   6.960679e-01        15.488347   \n",
       "                       std         52.208051   8.428480e-01        53.738957   \n",
       "average_rating_pct_t-1 mean        83.924528   9.887137e-01        81.206919   \n",
       "                       std         15.826411   5.518066e-01        18.752233   \n",
       "IsOnCampaign_t-1       mean         0.137838   1.906593e-02         0.190321   \n",
       "                       std          0.345197   4.363456e-01         0.392626   \n",
       "\n",
       "closest_cutoff_t-1                                               pooled  \\\n",
       "cutoff_prefix               below_cutoff_t-1          diff above cutoff   \n",
       "sku                    size       357.000000           NaN  4643.000000   \n",
       "inventory_t-1          mean        87.072829  2.037827e+03  1278.344174   \n",
       "                       std          7.447967  1.439818e-35  6639.057277   \n",
       "price_t-1              mean      2064.247619 -3.831082e+02  2041.687831   \n",
       "                       std       3271.279598  3.482083e-02  3485.971990   \n",
       "view_daily_t           mean        13.487395  1.110163e+01    18.616196   \n",
       "                       std         25.792669  1.667623e-10    51.162572   \n",
       "purchase_dummy_t       mean         0.126050  9.171773e-02     0.161103   \n",
       "                       std          0.332372  2.504480e-06     0.367665   \n",
       "total_rating_count_t-1 mean        13.328652  2.159695e+00    12.254991   \n",
       "                       std         56.113229  4.927414e-01    47.563540   \n",
       "average_rating_pct_t-1 mean        83.506173 -2.299254e+00    81.856040   \n",
       "                       std         15.047439  7.249269e-02    18.742975   \n",
       "IsOnCampaign_t-1       mean         0.156863  3.345867e-02     0.160887   \n",
       "                       std          0.364182  1.061539e-01     0.367467   \n",
       "\n",
       "closest_cutoff_t-1                                                     \n",
       "cutoff_prefix               below cutoff          diff zero inventory  \n",
       "sku                    size  1977.000000           NaN    4034.000000  \n",
       "inventory_t-1          mean    30.161356  1.248183e+03       0.000000  \n",
       "                       std     30.615725  6.022950e-37       0.000000  \n",
       "price_t-1              mean  2846.603085 -8.049153e+02    4665.424874  \n",
       "                       std   5011.503497  9.283926e-11    5789.272702  \n",
       "view_daily_t           mean     8.551846  1.006435e+01      13.131879  \n",
       "                       std     23.067088  4.931002e-28      49.507547  \n",
       "purchase_dummy_t       mean     0.073849  8.725347e-02       0.076599  \n",
       "                       std      0.261592  1.658685e-27       0.265987  \n",
       "total_rating_count_t-1 mean     7.417555  4.837437e+00      13.704268  \n",
       "                       std     46.388326  1.224448e-04      66.766500  \n",
       "average_rating_pct_t-1 mean    82.030817 -1.747767e-01      82.737200  \n",
       "                       std     18.815273  8.351488e-01      17.944545  \n",
       "IsOnCampaign_t-1       mean     0.116844  4.404365e-02       0.267724  \n",
       "                       std      0.321315  1.074964e-06       0.442828  "
      ]
     },
     "execution_count": 14,
     "metadata": {},
     "output_type": "execute_result"
    }
   ],
   "source": [
    "comparison_of_means_table"
   ]
  },
  {
   "cell_type": "markdown",
   "metadata": {
    "id": "0RLauQSufqiM"
   },
   "source": [
    "##### Comparison of means (estimation of baseline model without restricting data on bandwidth)"
   ]
  },
  {
   "cell_type": "code",
   "execution_count": 15,
   "metadata": {
    "colab": {
     "base_uri": "https://localhost:8080/",
     "height": 585
    },
    "id": "RbiEbr0geLyt",
    "outputId": "5c13dad3-43fc-4b11-da0a-51bc8da2b8ca"
   },
   "outputs": [
    {
     "data": {
      "image/png": "[encoded data removed]",
      "text/plain": [
       "<Figure size 720x576 with 6 Axes>"
      ]
     },
     "metadata": {
      "needs_background": "light"
     },
     "output_type": "display_data"
    }
   ],
   "source": [
    "fig, axs = plt.subplots(3,2,figsize=(10,8))\n",
    "cutoffs = [4.5,24.5,49.5,99.5,\"Pooled\"]\n",
    "\n",
    "for x,k in enumerate(cutoffs):\n",
    "  if k != \"Pooled\":\n",
    "    #Data for Regression  \n",
    "    df_reg_k = df_cleaned_no_zero_inventory.loc[df_cleaned_no_zero_inventory['closest_cutoff_t-1']==k,:] \n",
    "  else:\n",
    "    #Data for Regression  \n",
    "    df_reg_k = df_cleaned_no_zero_inventory\n",
    "  \n",
    "  #Regression\n",
    "  treatment = df_reg_k['treatment_dummy_t-1']\n",
    "  res = ols('purchase_dummy_t ~ treatment', df_reg_k).fit(cov_type='HC0')\n",
    "\n",
    "  #Fitted values to df\n",
    "  df_reg_k['predictions'] = res.fittedvalues\n",
    "  #upper ci to df\n",
    "  df_reg_k['predictions_ci_u'] = res.get_prediction().summary_frame(alpha=0.05)['mean_ci_upper']\n",
    "  #lower ci to df\n",
    "  df_reg_k['predictions_ci_l'] = res.get_prediction().summary_frame(alpha=0.05)['mean_ci_lower']\n",
    "  \n",
    "  #Drop running variable greater than 125 for visualisation purposes\n",
    "  df_rd_graph_k = df_reg_k.loc[df_reg_k['inventory_t-1']<125,:]\n",
    "  \n",
    "  #Bin variables\n",
    "  df_rd_graph_k[f'closest_cutoff_distance_binned'] = pd.cut(x=df_rd_graph_k['closest_cutoff_distance_t-1'], bins=22)\n",
    "  df_binned = df_rd_graph_k.groupby('closest_cutoff_distance_binned').mean()\n",
    "  \n",
    "  #plot\n",
    "  plt.subplot(3,2,x+1)\n",
    "  plt.scatter(df_binned['closest_cutoff_distance_t-1'],df_binned['purchase_dummy_t'],marker='o', color = 'grey')\n",
    "  plt.axvline(x=0, ls = '--', lw = 0.5,color = 'black')\n",
    "  \n",
    "  plt.plot(df_binned.loc[df_binned['closest_cutoff_distance_t-1']>0,'closest_cutoff_distance_t-1'],\n",
    "           df_binned.loc[df_binned['closest_cutoff_distance_t-1']>0,'predictions'],marker='', color ='red')\n",
    "  plt.plot(df_binned.loc[df_binned['closest_cutoff_distance_t-1']<0,'closest_cutoff_distance_t-1'],\n",
    "           df_binned.loc[df_binned['closest_cutoff_distance_t-1']<0,'predictions'],marker='', color ='red')\n",
    "  plt.plot(df_binned.loc[df_binned['closest_cutoff_distance_t-1']>0,'closest_cutoff_distance_t-1'],\n",
    "           df_binned.loc[df_binned['closest_cutoff_distance_t-1']>0,'predictions_ci_u'],marker='', color ='red', lw = 0.5, ls = \"--\")\n",
    "  plt.plot(df_binned.loc[df_binned['closest_cutoff_distance_t-1']<0,'closest_cutoff_distance_t-1'],\n",
    "           df_binned.loc[df_binned['closest_cutoff_distance_t-1']<0,'predictions_ci_u'],marker='', color ='red' , lw = 0.5, ls = \"--\")\n",
    "  plt.plot(df_binned.loc[df_binned['closest_cutoff_distance_t-1']>0,'closest_cutoff_distance_t-1'],\n",
    "           df_binned.loc[df_binned['closest_cutoff_distance_t-1']>0,'predictions_ci_l'],marker='', color ='red', lw = 0.5, ls = \"--\")\n",
    "  plt.plot(df_binned.loc[df_binned['closest_cutoff_distance_t-1']<0,'closest_cutoff_distance_t-1'],\n",
    "           df_binned.loc[df_binned['closest_cutoff_distance_t-1']<0,'predictions_ci_l'],marker='', color ='red', lw = 0.5, ls = \"--\")\n",
    "\n",
    "\n",
    "  plt.title(f'Message cutoff = {k}')\n",
    "  if x == 3 or x == 4:\n",
    "    plt.xlabel('Distance to cutoff')\n",
    "  if  x == 0 or x == 2 or x == 4:\n",
    "    plt.ylabel('Product purchased (share)')\n",
    "\n",
    "\n",
    "axs[2][1].set_visible(False)\n",
    "fig.tight_layout()\n",
    "plt.show()"
   ]
  },
  {
   "cell_type": "markdown",
   "metadata": {
    "id": "tTyBk9i9O8XK"
   },
   "source": [
    "#### Non-parametric estimation of basline model\n"
   ]
  },
  {
   "cell_type": "markdown",
   "metadata": {
    "id": "pdi--ppRZD0A"
   },
   "source": [
    "Non-parametric estimation: $Y_i = \\alpha + D_{i}(x_i)$  \n",
    "Relies solely on algorithm to decide the RDD bandwidth."
   ]
  },
  {
   "cell_type": "code",
   "execution_count": 16,
   "metadata": {
    "colab": {
     "base_uri": "https://localhost:8080/",
     "height": 322
    },
    "id": "9Je7t9Q8ZDz-",
    "outputId": "2eb0df1e-3aa2-42dd-a57f-b9e9d5ee5c2e"
   },
   "outputs": [
    {
     "data": {
      "text/html": [
       "<table style=\"text-align:center\"><tr><td colspan=\"6\" style=\"border-bottom: 1px solid black\"></td></tr><tr><td style=\"text-align:left\"></td><td colspan=\"5\"><em>Dependent variable:purchase_dummy_t</em></td></tr><tr><td style=\"text-align:left\"></td><tr><td></td><td colspan=\"1\">cutoff = 4.5\n",
       " bw = 1.9</td><td colspan=\"1\">cutoff = 24.5\n",
       " bw = 2.6</td><td colspan=\"1\">cutoff = 49.5\n",
       " bw = 3.2</td><td colspan=\"1\">cutoff = 99.5\n",
       " bw = 9.8</td><td colspan=\"1\">cutoffs are Pooled\n",
       " bw = 12.4</td></tr><tr><td style=\"text-align:left\"></td><td>(1)</td><td>(2)</td><td>(3)</td><td>(4)</td><td>(5)</td></tr><tr><td colspan=\"6\" style=\"border-bottom: 1px solid black\"></td></tr><tr><td style=\"text-align:left\">const</td><td>0.026<sup>***</sup></td><td>0.064<sup>***</sup></td><td>0.114<sup>***</sup></td><td>0.131<sup>***</sup></td><td>0.068<sup>***</sup></td></tr><tr><td style=\"text-align:left\"></td><td>(0.009)</td><td>(0.023)</td><td>(0.030)</td><td>(0.029)</td><td>(0.006)</td></tr><tr><td style=\"text-align:left\">treatment_dummy_t-1</td><td>0.018<sup></sup></td><td>-0.008<sup></sup></td><td>0.027<sup></sup></td><td>0.032<sup></sup></td><td>0.006<sup></sup></td></tr><tr><td style=\"text-align:left\"></td><td>(0.015)</td><td>(0.030)</td><td>(0.051)</td><td>(0.046)</td><td>(0.009)</td></tr><td colspan=\"6\" style=\"border-bottom: 1px solid black\"></td></tr><tr><td style=\"text-align: left\">Observations</td><td>584</td><td>255</td><td>185</td><td>241</td><td>3,531</td></tr><tr><td style=\"text-align: left\">R<sup>2</sup></td><td>0.002</td><td>0.000</td><td>0.002</td><td>0.002</td><td>0.000</td></tr><tr><td style=\"text-align: left\">Adjusted R<sup>2</sup></td><td>0.001</td><td>-0.004</td><td>-0.004</td><td>-0.002</td><td>-0.000</td></tr><tr><td style=\"text-align: left\">Residual Std. Error</td><td>0.182 (df=582)</td><td>0.236 (df=253)</td><td>0.331 (df=183)</td><td>0.353 (df=239)</td><td>0.257 (df=3529)</td></tr><tr><td style=\"text-align: left\">F Statistic</td><td>1.350<sup></sup> (df=1; 582)</td><td>0.079<sup></sup> (df=1; 253)</td><td>0.277<sup></sup> (df=1; 183)</td><td>0.479<sup></sup> (df=1; 239)</td><td>0.433<sup></sup> (df=1; 3529)</td></tr><tr><td colspan=\"6\" style=\"border-bottom: 1px solid black\"></td></tr><tr><td style=\"text-align: left\">Note:</td>\n",
       " <td colspan=\"5\" style=\"text-align: right\">\n",
       "  <sup>*</sup>p&lt;0.1;\n",
       "  <sup>**</sup>p&lt;0.05;\n",
       "  <sup>***</sup>p&lt;0.01\n",
       " </td></tr></table>"
      ],
      "text/plain": [
       "<stargazer.stargazer.Stargazer at 0x2bcf46f0b50>"
      ]
     },
     "execution_count": 16,
     "metadata": {},
     "output_type": "execute_result"
    }
   ],
   "source": [
    "model_no_linear_trend = []\n",
    "optimal_bandwidths = []\n",
    "cutoffs = [4.5,24.5,49.5,99.5,'Pooled']\n",
    "\n",
    "for cutoff in cutoffs:\n",
    "  if cutoff != \"Pooled\":\n",
    "    #Data for Regression  \n",
    "    df_rdd = df_cleaned_no_zero_inventory.loc[df_cleaned_no_zero_inventory['closest_cutoff_t-1']==cutoff,:]\n",
    "  else:\n",
    "    #Data for Regression  \n",
    "    df_rdd = df_cleaned_no_zero_inventory\n",
    "    \n",
    "  #Find optimal BW\n",
    "  optimal_b = rdd.optimal_bandwidth(df_rdd['purchase_dummy_t'],df_rdd['closest_cutoff_distance_t-1']) \n",
    " \n",
    "  #store optimal bw\n",
    "  optimal_bandwidths.append(optimal_b)\n",
    "\n",
    "  df_k = df_rdd.loc[abs(df_rdd.loc[:,'closest_cutoff_distance_t-1']) < optimal_b,:]\n",
    "  model_no_linear_trend.append(sm.OLS(df_k['purchase_dummy_t'],sm.add_constant(df_k.loc[:,'treatment_dummy_t-1'])).fit(cov_type='HC0'))\n",
    "\n",
    "stargazer = Stargazer(model_no_linear_trend)\n",
    "stargazer.custom_columns([f'cutoff = {cutoffs[0]}\\n bw = {round(optimal_bandwidths[0],1)}',\n",
    "                          f'cutoff = {cutoffs[1]}\\n bw = {round(optimal_bandwidths[1],1)}',\n",
    "                          f'cutoff = {cutoffs[2]}\\n bw = {round(optimal_bandwidths[2],1)}',\n",
    "                          f'cutoff = {cutoffs[3]}\\n bw = {round(optimal_bandwidths[3],1)}',\n",
    "                          f'cutoffs are Pooled\\n bw = {round(optimal_bandwidths[4],1)}'],\n",
    "                         [1 for x in model_no_linear_trend])\n",
    "stargazer"
   ]
  },
  {
   "cell_type": "markdown",
   "metadata": {
    "id": "GEdOe9lPZDz9"
   },
   "source": [
    "### Regression discontinuity pooled treatment (different bws)"
   ]
  },
  {
   "cell_type": "code",
   "execution_count": 17,
   "metadata": {
    "colab": {
     "base_uri": "https://localhost:8080/",
     "height": 585
    },
    "id": "pVXnCYKm2F3u",
    "outputId": "1a19fd2d-efff-40e0-dc37-3f445711edd2"
   },
   "outputs": [
    {
     "data": {
      "image/png": "[encoded data removed]",
      "text/plain": [
       "<Figure size 720x576 with 6 Axes>"
      ]
     },
     "metadata": {
      "needs_background": "light"
     },
     "output_type": "display_data"
    }
   ],
   "source": [
    "fig, axs = plt.subplots(3,2,figsize=(10,8))\n",
    "#Find optimal BW\n",
    "optimal_b = rdd.optimal_bandwidth(df_rdd['purchase_dummy_t'],df_rdd['closest_cutoff_distance_t-1']) \n",
    "\n",
    "bws = [25,16,optimal_b,8,5,2]\n",
    "\n",
    "for x,k in enumerate(bws):\n",
    "  df_reg_k = df_cleaned_no_zero_inventory.loc[abs(df_cleaned_no_zero_inventory['closest_cutoff_distance_t-1']) < k] \n",
    "  \n",
    "  #Regression\n",
    "  treatment = df_reg_k['treatment_dummy_t-1']\n",
    "  res = ols('purchase_dummy_t ~ treatment', df_reg_k).fit(cov_type='HC0')\n",
    "\n",
    "  #Fitted values to df\n",
    "  df_reg_k['predictions'] = res.fittedvalues\n",
    "  #upper ci to df\n",
    "  df_reg_k['predictions_ci_u'] = res.get_prediction().summary_frame(alpha=0.05)['mean_ci_upper']\n",
    "  #lower ci to df\n",
    "  df_reg_k['predictions_ci_l'] = res.get_prediction().summary_frame(alpha=0.05)['mean_ci_lower']\n",
    "  \n",
    "  #Bin variables\n",
    "  df_reg_k[f'closest_cutoff_distance_binned'] = pd.cut(x=df_reg_k['closest_cutoff_distance_t-1'], bins=22)\n",
    "  df_binned = df_reg_k.groupby('closest_cutoff_distance_binned').mean()\n",
    "  \n",
    "  #plot\n",
    "  plt.subplot(3,2,x+1)\n",
    "  plt.scatter(df_binned['closest_cutoff_distance_t-1'],df_binned['purchase_dummy_t'],marker='o', color = 'grey')\n",
    "  plt.axvline(x=0, ls = '--', lw = 0.5,color = 'black')\n",
    "  \n",
    "  plt.plot(df_binned.loc[df_binned['closest_cutoff_distance_t-1']>0,'closest_cutoff_distance_t-1'],\n",
    "           df_binned.loc[df_binned['closest_cutoff_distance_t-1']>0,'predictions'],marker='', color ='red')\n",
    "  plt.plot(df_binned.loc[df_binned['closest_cutoff_distance_t-1']<0,'closest_cutoff_distance_t-1'],\n",
    "           df_binned.loc[df_binned['closest_cutoff_distance_t-1']<0,'predictions'],marker='', color ='red')\n",
    "  plt.plot(df_binned.loc[df_binned['closest_cutoff_distance_t-1']>0,'closest_cutoff_distance_t-1'],\n",
    "           df_binned.loc[df_binned['closest_cutoff_distance_t-1']>0,'predictions_ci_u'],marker='', color ='red', lw = 0.5, ls = \"--\")\n",
    "  plt.plot(df_binned.loc[df_binned['closest_cutoff_distance_t-1']<0,'closest_cutoff_distance_t-1'],\n",
    "           df_binned.loc[df_binned['closest_cutoff_distance_t-1']<0,'predictions_ci_u'],marker='', color ='red' , lw = 0.5, ls = \"--\")\n",
    "  plt.plot(df_binned.loc[df_binned['closest_cutoff_distance_t-1']>0,'closest_cutoff_distance_t-1'],\n",
    "           df_binned.loc[df_binned['closest_cutoff_distance_t-1']>0,'predictions_ci_l'],marker='', color ='red', lw = 0.5, ls = \"--\")\n",
    "  plt.plot(df_binned.loc[df_binned['closest_cutoff_distance_t-1']<0,'closest_cutoff_distance_t-1'],\n",
    "           df_binned.loc[df_binned['closest_cutoff_distance_t-1']<0,'predictions_ci_l'],marker='', color ='red', lw = 0.5, ls = \"--\")\n",
    "\n",
    "\n",
    "  plt.title(f'Bandwidth = {round(k,1)}')\n",
    "  if x == 3 or x == 4:\n",
    "    plt.xlabel('Distance to cutoff')\n",
    "  if  x == 0 or x == 2 or x == 4:\n",
    "    plt.ylabel('Product purchased (share)')\n",
    "\n",
    "fig.tight_layout()\n",
    "plt.show()"
   ]
  },
  {
   "cell_type": "markdown",
   "metadata": {
    "id": "S75svHzuYeAn"
   },
   "source": [
    "### Covariate balance check"
   ]
  },
  {
   "cell_type": "code",
   "execution_count": 18,
   "metadata": {
    "colab": {
     "base_uri": "https://localhost:8080/",
     "height": 382
    },
    "id": "WbUhHC5mYqgu",
    "outputId": "aefc8a1d-1901-495f-d91c-833c6096632d"
   },
   "outputs": [
    {
     "data": {
      "text/html": [
       "<table style=\"text-align:center\"><tr><td colspan=\"11\" style=\"border-bottom: 1px solid black\"></td></tr><tr><td style=\"text-align:left\"></td><tr><td></td><td colspan=\"1\">cov = IsOnCampaign_t-1, c* = 4.5</td><td colspan=\"1\">cov = price_t-1, c* = 4.5</td><td colspan=\"1\">cov = IsOnCampaign_t-1, c* = 24.5</td><td colspan=\"1\">cov = price_t-1, c* = 24.5</td><td colspan=\"1\">cov = IsOnCampaign_t-1, c* = 49.5</td><td colspan=\"1\">cov = price_t-1, c* = 49.5</td><td colspan=\"1\">cov = IsOnCampaign_t-1, c* = 99.5</td><td colspan=\"1\">cov = price_t-1, c* = 99.5</td><td colspan=\"1\">cov = IsOnCampaign_t-1, c* = Pooled</td><td colspan=\"1\">cov = price_t-1, c* = Pooled</td></tr><tr><td style=\"text-align:left\"></td><td>(1)</td><td>(2)</td><td>(3)</td><td>(4)</td><td>(5)</td><td>(6)</td><td>(7)</td><td>(8)</td><td>(9)</td><td>(10)</td></tr><tr><td colspan=\"11\" style=\"border-bottom: 1px solid black\"></td></tr><tr><td style=\"text-align:left\">const</td><td>0.087<sup>***</sup></td><td>3183.963<sup>***</sup></td><td>0.155<sup>***</sup></td><td>2889.853<sup>***</sup></td><td>0.088<sup>***</sup></td><td>1735.907<sup>***</sup></td><td>0.197<sup>***</sup></td><td>2252.458<sup>***</sup></td><td>0.114<sup>***</sup></td><td>2931.313<sup>***</sup></td></tr><tr><td style=\"text-align:left\"></td><td>(0.016)</td><td>(296.508)</td><td>(0.034)</td><td>(455.920)</td><td>(0.026)</td><td>(257.879)</td><td>(0.034)</td><td>(261.248)</td><td>(0.008)</td><td>(121.084)</td></tr><tr><td style=\"text-align:left\">treatment_dummy_t-1</td><td>-0.015<sup></sup></td><td>-287.302<sup></sup></td><td>-0.010<sup></sup></td><td>-505.656<sup></sup></td><td>0.095<sup>*</sup></td><td>1240.752<sup>*</sup></td><td>0.053<sup></sup></td><td>367.363<sup></sup></td><td>0.007<sup></sup></td><td>-315.151<sup>*</sup></td></tr><tr><td style=\"text-align:left\"></td><td>(0.022)</td><td>(404.791)</td><td>(0.045)</td><td>(542.870)</td><td>(0.053)</td><td>(662.822)</td><td>(0.054)</td><td>(478.453)</td><td>(0.011)</td><td>(160.809)</td></tr><td colspan=\"11\" style=\"border-bottom: 1px solid black\"></td></tr><tr><td style=\"text-align: left\">Observations</td><td>584</td><td>584</td><td>255</td><td>255</td><td>185</td><td>185</td><td>241</td><td>241</td><td>3,531</td><td>3,531</td></tr><tr><td style=\"text-align: left\">R<sup>2</sup></td><td>0.001</td><td>0.001</td><td>0.000</td><td>0.004</td><td>0.020</td><td>0.024</td><td>0.004</td><td>0.003</td><td>0.000</td><td>0.001</td></tr><tr><td style=\"text-align: left\">Adjusted R<sup>2</sup></td><td>-0.001</td><td>-0.001</td><td>-0.004</td><td>-0.000</td><td>0.014</td><td>0.019</td><td>-0.000</td><td>-0.002</td><td>-0.000</td><td>0.001</td></tr><tr><td style=\"text-align: left\">Residual Std. Error</td><td>0.272 (df=582)</td><td>4928.573 (df=582)</td><td>0.357 (df=253)</td><td>4142.263 (df=253)</td><td>0.328 (df=183)</td><td>3872.061 (df=183)</td><td>0.415 (df=239)</td><td>3553.989 (df=239)</td><td>0.322 (df=3529)</td><td>4790.109 (df=3529)</td></tr><tr><td style=\"text-align: left\">F Statistic</td><td>0.427<sup></sup> (df=1; 582)</td><td>0.504<sup></sup> (df=1; 582)</td><td>0.046<sup></sup> (df=1; 253)</td><td>0.868<sup></sup> (df=1; 253)</td><td>3.239<sup>*</sup> (df=1; 183)</td><td>3.504<sup>*</sup> (df=1; 183)</td><td>0.947<sup></sup> (df=1; 239)</td><td>0.590<sup></sup> (df=1; 239)</td><td>0.374<sup></sup> (df=1; 3529)</td><td>3.841<sup>*</sup> (df=1; 3529)</td></tr><tr><td colspan=\"11\" style=\"border-bottom: 1px solid black\"></td></tr><tr><td style=\"text-align: left\">Note:</td>\n",
       " <td colspan=\"10\" style=\"text-align: right\">\n",
       "  <sup>*</sup>p&lt;0.1;\n",
       "  <sup>**</sup>p&lt;0.05;\n",
       "  <sup>***</sup>p&lt;0.01\n",
       " </td></tr></table>"
      ],
      "text/plain": [
       "<stargazer.stargazer.Stargazer at 0x2bcf3454070>"
      ]
     },
     "execution_count": 18,
     "metadata": {},
     "output_type": "execute_result"
    }
   ],
   "source": [
    "covariates =  ['IsOnCampaign_t-1',\n",
    "              'price_t-1']\n",
    "model_no_linear_trend = []\n",
    "optimal_bandwidths = []\n",
    "cutoffs = [4.5,24.5,49.5,99.5,'Pooled']\n",
    "\n",
    "for cutoff in cutoffs:\n",
    "  if cutoff != \"Pooled\":\n",
    "    #Data for Regression  \n",
    "    df_rdd = df_cleaned_no_zero_inventory.loc[df_cleaned_no_zero_inventory['closest_cutoff_t-1']==cutoff,:]\n",
    "  else:\n",
    "    #Data for Regression  \n",
    "    df_rdd = df_cleaned_no_zero_inventory\n",
    "    \n",
    "  #Find optimal BW\n",
    "  optimal_b = rdd.optimal_bandwidth(df_rdd['purchase_dummy_t'],df_rdd['closest_cutoff_distance_t-1']) \n",
    "  \n",
    "  #store optimal bw\n",
    "  optimal_bandwidths.append(optimal_b)\n",
    "\n",
    "  df_k = df_rdd.loc[abs(df_rdd.loc[:,'closest_cutoff_distance_t-1']) < optimal_b,:]\n",
    "  for covariate in covariates:\n",
    "    model_no_linear_trend.append(sm.OLS(df_k[covariate],sm.add_constant(df_k.loc[:,'treatment_dummy_t-1'])).fit(cov_type='HC0'))\n",
    "  \n",
    "stargazer = Stargazer(model_no_linear_trend)\n",
    "stargazer.custom_columns([f'cov = {cov}, c* = {cut}' for cut in cutoffs for cov in covariates],\n",
    "                       [1 for x in model_no_linear_trend])\n",
    "stargazer"
   ]
  },
  {
   "cell_type": "markdown",
   "metadata": {
    "id": "SZlTBpwz0Mg1"
   },
   "source": [
    "## Other data analysis (parametric estimation)"
   ]
  },
  {
   "cell_type": "markdown",
   "metadata": {
    "id": "SkkAE9rIPATh"
   },
   "source": [
    "##### Parametric (incl. linear trend on both sides of cutoff)"
   ]
  },
  {
   "cell_type": "markdown",
   "metadata": {
    "id": "VKXBicSaZD0B"
   },
   "source": [
    "Parametric estimation: $Y_i = \\alpha + \\rho D_{i,j} + \\gamma_0 x_{i}  + \\gamma_{j} D_{i,j} \\cdot x_{i}$\n",
    "We here estimate the model with linear trends on both sides of the cut off. We restrict the data to be two times the optimal bandwidth as calculated by Imbens et al (2009). The linear trend allows us to include more data, however how much more depend on the data. The two times is somewhat arbitrary but increase the amount of the observations included drastically for most of the models estimated. "
   ]
  },
  {
   "cell_type": "code",
   "execution_count": 19,
   "metadata": {
    "colab": {
     "base_uri": "https://localhost:8080/",
     "height": 410
    },
    "id": "7Mmpm4Da6CeE",
    "outputId": "5681866a-2ba0-490a-df70-7e468299258c"
   },
   "outputs": [
    {
     "data": {
      "text/html": [
       "<table style=\"text-align:center\"><tr><td colspan=\"6\" style=\"border-bottom: 1px solid black\"></td></tr><tr><td style=\"text-align:left\"></td><td colspan=\"5\"><em>Dependent variable:purchase_dummy_t</em></td></tr><tr><td style=\"text-align:left\"></td><tr><td></td><td colspan=\"1\">cutoff = 4.5\n",
       ", bw = 3.7</td><td colspan=\"1\">cutoff = 24.5\n",
       ", bw = 5.2</td><td colspan=\"1\">cutoff = 49.5\n",
       ", bw = 6.4</td><td colspan=\"1\">cutoff = 99.5\n",
       ", bw = 19.6</td><td colspan=\"1\">cutoffs are pooled\n",
       ", bw = 24.7</td></tr><tr><td style=\"text-align:left\"></td><td>(1)</td><td>(2)</td><td>(3)</td><td>(4)</td><td>(5)</td></tr><tr><td colspan=\"6\" style=\"border-bottom: 1px solid black\"></td></tr><tr><td style=\"text-align:left\">Intercept</td><td>0.017<sup></sup></td><td>0.053<sup></sup></td><td>0.138<sup>***</sup></td><td>0.108<sup>***</sup></td><td>0.047<sup>***</sup></td></tr><tr><td style=\"text-align:left\"></td><td>(0.013)</td><td>(0.036)</td><td>(0.042)</td><td>(0.035)</td><td>(0.008)</td></tr><tr><td style=\"text-align:left\">Q(\"closest_cutoff_distance_t-1\")</td><td>-0.006<sup></sup></td><td>-0.013<sup></sup></td><td>0.007<sup></sup></td><td>-0.001<sup></sup></td><td>-0.005<sup>***</sup></td></tr><tr><td style=\"text-align:left\"></td><td>(0.006)</td><td>(0.013)</td><td>(0.013)</td><td>(0.003)</td><td>(0.001)</td></tr><tr><td style=\"text-align:left\">Q(\"treatment_dummy_t-1\")</td><td>0.030<sup></sup></td><td>-0.013<sup></sup></td><td>0.002<sup></sup></td><td>0.061<sup></sup></td><td>0.003<sup></sup></td></tr><tr><td style=\"text-align:left\"></td><td>(0.023)</td><td>(0.045)</td><td>(0.073)</td><td>(0.058)</td><td>(0.012)</td></tr><tr><td style=\"text-align:left\">Q(\"treatment_dummy_t-1\"):Q(\"closest_cutoff_distance_t-1\")</td><td>0.005<sup></sup></td><td>0.021<sup></sup></td><td>-0.005<sup></sup></td><td>0.000<sup></sup></td><td>0.010<sup>***</sup></td></tr><tr><td style=\"text-align:left\"></td><td>(0.011)</td><td>(0.016)</td><td>(0.022)</td><td>(0.005)</td><td>(0.002)</td></tr><td colspan=\"6\" style=\"border-bottom: 1px solid black\"></td></tr><tr><td style=\"text-align: left\">Observations</td><td>1,191</td><td>458</td><td>323</td><td>448</td><td>4,085</td></tr><tr><td style=\"text-align: left\">R<sup>2</sup></td><td>0.003</td><td>0.006</td><td>0.003</td><td>0.005</td><td>0.012</td></tr><tr><td style=\"text-align: left\">Adjusted R<sup>2</sup></td><td>0.000</td><td>-0.001</td><td>-0.007</td><td>-0.002</td><td>0.011</td></tr><tr><td style=\"text-align: left\">Residual Std. Error</td><td>0.187 (df=1187)</td><td>0.259 (df=454)</td><td>0.338 (df=319)</td><td>0.344 (df=444)</td><td>0.271 (df=4081)</td></tr><tr><td style=\"text-align: left\">F Statistic</td><td>1.145<sup></sup> (df=3; 1187)</td><td>0.868<sup></sup> (df=3; 454)</td><td>0.324<sup></sup> (df=3; 319)</td><td>0.719<sup></sup> (df=3; 444)</td><td>11.622<sup>***</sup> (df=3; 4081)</td></tr><tr><td colspan=\"6\" style=\"border-bottom: 1px solid black\"></td></tr><tr><td style=\"text-align: left\">Note:</td>\n",
       " <td colspan=\"5\" style=\"text-align: right\">\n",
       "  <sup>*</sup>p&lt;0.1;\n",
       "  <sup>**</sup>p&lt;0.05;\n",
       "  <sup>***</sup>p&lt;0.01\n",
       " </td></tr></table>"
      ],
      "text/plain": [
       "<stargazer.stargazer.Stargazer at 0x2bcf4adaac0>"
      ]
     },
     "execution_count": 19,
     "metadata": {},
     "output_type": "execute_result"
    }
   ],
   "source": [
    "model = []\n",
    "optimal_bandwidths = []\n",
    "cutoffs = [4.5,24.5,49.5,99.5,'Pooled']\n",
    "\n",
    "for cutoff in cutoffs:\n",
    "  if cutoff != \"Pooled\":\n",
    "    #Data for Regression  \n",
    "    df_rdd = df_cleaned_no_zero_inventory.loc[df_cleaned_no_zero_inventory['closest_cutoff_t-1']==cutoff,:]\n",
    "  else:\n",
    "    #Data for Regression  \n",
    "    df_rdd = df_cleaned_no_zero_inventory\n",
    "    \n",
    "  #Find optimal BW\n",
    "  optimal_b_times_2 = rdd.optimal_bandwidth(df_rdd['purchase_dummy_t'],df_rdd['closest_cutoff_distance_t-1']) * 2\n",
    " \n",
    "  #store optimal bw\n",
    "  optimal_bandwidths.append(optimal_b_times_2)\n",
    "\n",
    "  df_k = df_rdd.loc[abs(df_rdd.loc[:,'closest_cutoff_distance_t-1']) < optimal_b_times_2,:]\n",
    "  model.append(ols(data=df_k, formula='purchase_dummy_t ~ Q(\"treatment_dummy_t-1\") * Q(\"closest_cutoff_distance_t-1\")').fit(cov_type='HC0'))\n",
    "\n",
    "stargazer = Stargazer(model)\n",
    "stargazer.custom_columns([f'cutoff = {cutoffs[0]}\\n, bw = {round(optimal_bandwidths[0],1)}',\n",
    "                          f'cutoff = {cutoffs[1]}\\n, bw = {round(optimal_bandwidths[1],1)}',\n",
    "                          f'cutoff = {cutoffs[2]}\\n, bw = {round(optimal_bandwidths[2],1)}',\n",
    "                          f'cutoff = {cutoffs[3]}\\n, bw = {round(optimal_bandwidths[3],1)}',\n",
    "                          f'cutoffs are pooled\\n, bw = {round(optimal_bandwidths[4],1)}'],\n",
    "                         [1 for x in model])\n",
    "stargazer"
   ]
  }
 ],
 "metadata": {
  "colab": {
   "collapsed_sections": [
    "2ztW0v3sZDzr",
    "m2UW9_62ZDzz",
    "dyyKyz4YZDz0",
    "4mjUjjouxvln",
    "_prvC8n-ZDz8",
    "Ua7DFrL-yAx0",
    "5SQDesWWiVZ2",
    "0RLauQSufqiM",
    "nXcEhcO9j4xf",
    "6Z-lmshJRZ5o",
    "vCZeFCioRh4q",
    "GEdOe9lPZDz9"
   ],
   "name": "ElgigantenAnalysis.ipynb",
   "provenance": [],
   "toc_visible": true
  },
  "kernelspec": {
   "display_name": "Python 3",
   "language": "python",
   "name": "python3"
  },
  "language_info": {
   "codemirror_mode": {
    "name": "ipython",
    "version": 3
   },
   "file_extension": ".py",
   "mimetype": "text/x-python",
   "name": "python",
   "nbconvert_exporter": "python",
   "pygments_lexer": "ipython3",
   "version": "3.8.5"
  }
 },
 "nbformat": 4,
 "nbformat_minor": 1
}
